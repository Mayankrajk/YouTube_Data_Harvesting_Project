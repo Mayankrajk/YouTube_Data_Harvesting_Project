{
  "nbformat": 4,
  "nbformat_minor": 0,
  "metadata": {
    "colab": {
      "provenance": [],
      "authorship_tag": "ABX9TyNURoqKjQGqXunvEzVkwYVI",
      "include_colab_link": true
    },
    "kernelspec": {
      "name": "python3",
      "display_name": "Python 3"
    },
    "language_info": {
      "name": "python"
    }
  },
  "cells": [
    {
      "cell_type": "markdown",
      "metadata": {
        "id": "view-in-github",
        "colab_type": "text"
      },
      "source": [
        "<a href=\"https://colab.research.google.com/github/Mayankrajk/YouTube_Data_Harvesting_Project/blob/main/Untitled1.ipynb\" target=\"_parent\"><img src=\"https://colab.research.google.com/assets/colab-badge.svg\" alt=\"Open In Colab\"/></a>"
      ]
    },
    {
      "cell_type": "code",
      "execution_count": 1,
      "metadata": {
        "id": "k8Ez9i1FCtBD"
      },
      "outputs": [],
      "source": [
        "import json\n",
        "import os\n",
        "import pandas\n",
        "from google.colab import drive"
      ]
    },
    {
      "cell_type": "code",
      "source": [
        "from google.colab import drive\n",
        "drive.mount('/content/drive')"
      ],
      "metadata": {
        "colab": {
          "base_uri": "https://localhost:8080/"
        },
        "id": "fzmY0iM9hI2l",
        "outputId": "68d965d5-2e74-438f-a44b-53fd6c4aa3ce"
      },
      "execution_count": 2,
      "outputs": [
        {
          "output_type": "stream",
          "name": "stdout",
          "text": [
            "Mounted at /content/drive\n"
          ]
        }
      ]
    },
    {
      "cell_type": "markdown",
      "source": [
        "#aggregated\n",
        "    # 1.aggregated trasaction"
      ],
      "metadata": {
        "id": "KxKZLIRB157y"
      }
    },
    {
      "cell_type": "code",
      "source": [
        "aggre_trans_path = \"/content/drive/MyDrive/data/aggregated/transaction/country/india/\"\n",
        "aggre_trans_list = os.listdir(aggre_trans_path)\n",
        "for i in range(len(aggre_trans_list)):\n",
        "    print(i)"
      ],
      "metadata": {
        "id": "ZooIJ1bmCzAZ"
      },
      "execution_count": null,
      "outputs": []
    },
    {
      "cell_type": "markdown",
      "source": [
        " #1.1 year wise aggregated trasaction"
      ],
      "metadata": {
        "id": "jau46cvo14Ky"
      }
    },
    {
      "cell_type": "code",
      "source": [
        "aggre_trans_year_wise = dict (categories=[], year=[], quarter=[], count=[], amount=[])\n",
        "for year in range(len(aggre_trans_list)):\n",
        "    print(year)\n",
        "    json_path = aggre_trans_path+aggre_trans_list[year]+\"/\"\n",
        "    print(json_path)\n",
        "\n"
      ],
      "metadata": {
        "id": "p1A6NtFhC7Xh",
        "colab": {
          "base_uri": "https://localhost:8080/"
        },
        "outputId": "d5b2c4ac-d460-4d35-9010-9d7361c84681"
      },
      "execution_count": 53,
      "outputs": [
        {
          "output_type": "stream",
          "name": "stdout",
          "text": [
            "0\n",
            "/content/drive/MyDrive/data/aggregated/transaction/country/india/2020/\n",
            "1\n",
            "/content/drive/MyDrive/data/aggregated/transaction/country/india/2021/\n",
            "2\n",
            "/content/drive/MyDrive/data/aggregated/transaction/country/india/state/\n",
            "3\n",
            "/content/drive/MyDrive/data/aggregated/transaction/country/india/2018/\n",
            "4\n",
            "/content/drive/MyDrive/data/aggregated/transaction/country/india/2019/\n",
            "5\n",
            "/content/drive/MyDrive/data/aggregated/transaction/country/india/2022/\n"
          ]
        }
      ]
    },
    {
      "cell_type": "code",
      "source": [],
      "metadata": {
        "id": "av_N0xTuDzub"
      },
      "execution_count": 26,
      "outputs": []
    }
  ]
}